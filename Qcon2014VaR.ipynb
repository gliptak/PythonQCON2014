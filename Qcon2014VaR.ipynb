{
 "metadata": {
  "name": "",
  "signature": "sha256:bf6a937e5513226c3fa33695ddd7b5211d0c13b05b09681df55f8d6eb615e4fc"
 },
 "nbformat": 3,
 "nbformat_minor": 0,
 "worksheets": [
  {
   "cells": [
    {
     "cell_type": "heading",
     "level": 1,
     "metadata": {},
     "source": [
      "Python \"why are the big dealers making big bets?\""
     ]
    },
    {
     "cell_type": "heading",
     "level": 2,
     "metadata": {},
     "source": [
      "Hot Technologies behind Modern Finance"
     ]
    },
    {
     "cell_type": "heading",
     "level": 3,
     "metadata": {},
     "source": [
      "QCON 2014\n",
      "Wednesday June 11th 2014\n",
      "1:45pm - 2:35pm"
     ]
    },
    {
     "cell_type": "markdown",
     "metadata": {},
     "source": [
      "Andy Fundinger Senior Consultant at Risk Focus, Python Evangelist"
     ]
    },
    {
     "cell_type": "markdown",
     "metadata": {},
     "source": [
      "Mario Morales Machine Learning Research Scientist and Quant Developer"
     ]
    },
    {
     "cell_type": "heading",
     "level": 3,
     "metadata": {},
     "source": [
      "Abstract"
     ]
    },
    {
     "cell_type": "markdown",
     "metadata": {},
     "source": [
      "In the last few years a number of large dealers and many other financial institutions have made big investments in Python.\n",
      "We will examine the reasons behind this trend and discuss techniques that facilitate successful projects.\n",
      "Python's strength is in its flexibility. Starting with dynamic typing and extending to more advanced meta-programming capabilities,\n",
      "Python allows code to be written many different ways and is especially good at integrating with C and C++ for optimized code.\n",
      "This makes Python a great fit for finance (especially Risk projects) as it is pretty common to have different groups that want\n",
      "to use different languages for the same project: e.g. Quants usually write in C/C++, while Application Development prefers\n",
      "to use a language with better support for plumbing and UI functionality.\n",
      "We will demonstrate the design and use of an environment for quantative researchers building a market risk simulation first\n",
      "as a basic system and then adding a hypothetical systemic shock. We will also discuss how we can leverage the dynamic typing\n",
      "of the language without sacrificing some of the benefits of a strongly typed languages."
     ]
    },
    {
     "cell_type": "heading",
     "level": 4,
     "metadata": {},
     "source": [
      "Goal of this Presentation:"
     ]
    },
    {
     "cell_type": "markdown",
     "metadata": {},
     "source": [
      "Show a simple example of a Risk Analysis in Python using calls to quantdl with utilities programmed by Andy Fundinger. Then some case study with plots and equations from a correlation analysis based in historical exchange rate information."
     ]
    },
    {
     "cell_type": "heading",
     "level": 4,
     "metadata": {},
     "source": [
      "Data Handling"
     ]
    },
    {
     "cell_type": "markdown",
     "metadata": {},
     "source": [
      "-Importing Data with Quandl handlers\n",
      "-Data Exploration and Visualization"
     ]
    },
    {
     "cell_type": "heading",
     "level": 4,
     "metadata": {},
     "source": [
      "Data Analysis"
     ]
    },
    {
     "cell_type": "markdown",
     "metadata": {},
     "source": [
      "-VaR Definition\n",
      "-Exchange Rates Model (Stepwise Implementation)\n",
      "-Schock Model"
     ]
    },
    {
     "cell_type": "heading",
     "level": 4,
     "metadata": {},
     "source": [
      "Case Study"
     ]
    },
    {
     "cell_type": "markdown",
     "metadata": {},
     "source": [
      "-Alien Invasion October 31st 2013\n",
      "-Effects in the world economy reflected in the exchange rate modeling (Stress testing over impulse-response functions)\n",
      "-Plotting results"
     ]
    },
    {
     "cell_type": "heading",
     "level": 4,
     "metadata": {},
     "source": [
      "Required Libraries"
     ]
    },
    {
     "cell_type": "markdown",
     "metadata": {},
     "source": [
      "-Numpy\n",
      "-SciPy\n",
      "-Pandas\n",
      "-SciKit-Learn\n",
      "-StatsModels\n",
      "-Patsy\n",
      "-Matplotlib\n",
      "-Ipython\n",
      "-Quandl"
     ]
    },
    {
     "cell_type": "code",
     "collapsed": false,
     "input": [],
     "language": "python",
     "metadata": {},
     "outputs": []
    },
    {
     "cell_type": "code",
     "collapsed": false,
     "input": [],
     "language": "python",
     "metadata": {},
     "outputs": []
    },
    {
     "cell_type": "code",
     "collapsed": false,
     "input": [
      "from data_access import get_file\n",
      "from transform import make_ccy_matrix\n",
      "import pandas as pd\n",
      "import numpy as np\n",
      "\n",
      "market = get_file('market1')\n",
      "model = get_file('model')\n",
      "\n",
      "ccy_matrix=make_ccy_matrix(market, model)"
     ],
     "language": "python",
     "metadata": {},
     "outputs": []
    },
    {
     "cell_type": "code",
     "collapsed": false,
     "input": [
      "print ccy_matrix"
     ],
     "language": "python",
     "metadata": {},
     "outputs": []
    },
    {
     "cell_type": "code",
     "collapsed": false,
     "input": [
      "ccy_matrix.columns"
     ],
     "language": "python",
     "metadata": {},
     "outputs": []
    },
    {
     "cell_type": "code",
     "collapsed": false,
     "input": [
      "corr=ccy_matrix.corr()"
     ],
     "language": "python",
     "metadata": {},
     "outputs": []
    },
    {
     "cell_type": "code",
     "collapsed": false,
     "input": [
      "corr"
     ],
     "language": "python",
     "metadata": {},
     "outputs": []
    },
    {
     "cell_type": "code",
     "collapsed": false,
     "input": [
      "from IPython.display import display, Math, Latex\n",
      "display(Math(r'F(k) = \\int_{-\\infty}^{\\infty} f(x) e^{2\\pi i k} dx'))"
     ],
     "language": "python",
     "metadata": {},
     "outputs": []
    },
    {
     "cell_type": "code",
     "collapsed": false,
     "input": [
      "$$a = b + c$$"
     ],
     "language": "python",
     "metadata": {},
     "outputs": []
    },
    {
     "cell_type": "markdown",
     "metadata": {},
     "source": [
      "$$a = b + c$$"
     ]
    },
    {
     "cell_type": "markdown",
     "metadata": {},
     "source": [
      "a = b + c"
     ]
    },
    {
     "cell_type": "code",
     "collapsed": false,
     "input": [
      "%pylab inline"
     ],
     "language": "python",
     "metadata": {},
     "outputs": []
    },
    {
     "cell_type": "code",
     "collapsed": false,
     "input": [
      "ret=ccy_matrix.pct_change()\n",
      "#choose the quantile\n",
      "quantile=0.05\n",
      "#the vol window\n",
      "volwindow=50\n",
      "#and the Var window for rolling \n",
      "varwindow=250"
     ],
     "language": "python",
     "metadata": {},
     "outputs": []
    },
    {
     "cell_type": "code",
     "collapsed": false,
     "input": [
      "from IPython.display import YouTubeVideo\n",
      "from datetime import timedelta\n",
      "start=int(timedelta(hours=0, minutes=0, seconds=0).total_seconds())\n",
      "end=int(timedelta(hours=0, minutes=0, seconds=100).total_seconds())\n",
      "YouTubeVideo(\"9-3FY_WszOg\", start=start, end=end, autoplay=0, theme=\"light\", color=\"blue\")"
     ],
     "language": "python",
     "metadata": {},
     "outputs": [
      {
       "html": [
        "\n",
        "        <iframe\n",
        "            width=\"400\"\n",
        "            height=300\"\n",
        "            src=\"https://www.youtube.com/embed/9-3FY_WszOg?color=blue&start=0&theme=light&end=100&autoplay=1\"\n",
        "            frameborder=\"0\"\n",
        "            allowfullscreen\n",
        "        ></iframe>\n",
        "        "
       ],
       "metadata": {},
       "output_type": "pyout",
       "prompt_number": 1,
       "text": [
        "<IPython.lib.display.YouTubeVideo at 0xa7e974c>"
       ]
      }
     ],
     "prompt_number": 1
    },
    {
     "cell_type": "code",
     "collapsed": false,
     "input": [
      "ccy_matrix['aed']"
     ],
     "language": "python",
     "metadata": {},
     "outputs": []
    },
    {
     "cell_type": "code",
     "collapsed": false,
     "input": [
      "a=ccy_matrix.columns\n",
      "print a"
     ],
     "language": "python",
     "metadata": {},
     "outputs": []
    },
    {
     "cell_type": "code",
     "collapsed": false,
     "input": [
      "ccy_matrix['jpy']"
     ],
     "language": "python",
     "metadata": {},
     "outputs": []
    },
    {
     "cell_type": "code",
     "collapsed": false,
     "input": [
      "ccy_matrix['jpy'].plot()"
     ],
     "language": "python",
     "metadata": {},
     "outputs": []
    },
    {
     "cell_type": "code",
     "collapsed": false,
     "input": [
      "ret['jpy'].plot()"
     ],
     "language": "python",
     "metadata": {},
     "outputs": []
    },
    {
     "cell_type": "code",
     "collapsed": false,
     "input": [
      "from statsmodels.formula.api import ols\n",
      "lm1 = ols('jpy~aed', ccy_matrix).fit()\n",
      "lm1.summary()\n"
     ],
     "language": "python",
     "metadata": {},
     "outputs": []
    },
    {
     "cell_type": "code",
     "collapsed": false,
     "input": [
      "ccy_matrix.head()"
     ],
     "language": "python",
     "metadata": {},
     "outputs": []
    },
    {
     "cell_type": "code",
     "collapsed": false,
     "input": [
      "#simple VaR using all the data\n",
      "unnormedquantile=pd.expanding_quantile(ccy_matrix['jpy'],quantile)\n",
      "\n",
      "#similar one using a rolling window \n",
      "unnormedquantileR=pd.rolling_quantile(ccy_matrix['jpy'],varwindow,quantile)\n",
      "\n",
      "#we can also normalize the returns by the vol\n",
      "vol=pd.rolling_std(ccy_matrix['jpy'],volwindow)*np.sqrt(256)\n",
      "unitvol=ccy_matrix['jpy']/vol\n",
      "\n",
      "#and get the expanding or rolling quantiles\n",
      "Var=pd.expanding_quantile(unitvol,quantile)\n",
      "VarR=pd.rolling_quantile(unitvol,varwindow,quantile)\n",
      "\n",
      "normedquantile=Var*vol\n",
      "normedquantileR=VarR*vol\n"
     ],
     "language": "python",
     "metadata": {},
     "outputs": []
    },
    {
     "cell_type": "code",
     "collapsed": false,
     "input": [
      "VarR"
     ],
     "language": "python",
     "metadata": {},
     "outputs": []
    },
    {
     "cell_type": "code",
     "collapsed": false,
     "input": [],
     "language": "python",
     "metadata": {},
     "outputs": []
    }
   ],
   "metadata": {}
  }
 ]
}